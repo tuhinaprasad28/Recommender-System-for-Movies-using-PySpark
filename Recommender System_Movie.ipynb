{
 "cells": [
  {
   "cell_type": "code",
   "execution_count": 1,
   "metadata": {
    "colab": {
     "base_uri": "https://localhost:8080/",
     "height": 1000
    },
    "colab_type": "code",
    "id": "nCDm5v1oPPYz",
    "outputId": "0e98298a-4f04-4fae-b3cc-acfe7fba427e"
   },
   "outputs": [],
   "source": [
    "#Import libraries\n",
    "import warnings\n",
    "warnings.filterwarnings('ignore')\n",
    "from pyspark.ml.evaluation import RegressionEvaluator\n",
    "from pyspark.ml.recommendation import ALS\n",
    "from pyspark.ml.tuning import TrainValidationSplit, ParamGridBuilder, CrossValidator\n",
    "from pyspark.sql import Row\n",
    "import pandas as pd\n",
    "\n",
    "#Create local Spark session\n",
    "import findspark\n",
    "findspark.init()\n",
    "from pyspark.sql import SparkSession\n",
    "spark = SparkSession.builder.master(\"local[*]\").getOrCreate()"
   ]
  },
  {
   "cell_type": "markdown",
   "metadata": {
    "colab_type": "text",
    "id": "rcmTvz--oRld"
   },
   "source": [
    "### 1. Import the MovieLens Dataset"
   ]
  },
  {
   "cell_type": "code",
   "execution_count": 2,
   "metadata": {},
   "outputs": [
    {
     "name": "stdout",
     "output_type": "stream",
     "text": [
      "+------+-------+------+\n",
      "|userId|movieId|rating|\n",
      "+------+-------+------+\n",
      "|   196|    242|   3.0|\n",
      "|   186|    302|   3.0|\n",
      "|    22|    377|   1.0|\n",
      "|   244|     51|   2.0|\n",
      "|   166|    346|   1.0|\n",
      "|   298|    474|   4.0|\n",
      "|   115|    265|   2.0|\n",
      "|   253|    465|   5.0|\n",
      "|   305|    451|   3.0|\n",
      "|     6|     86|   3.0|\n",
      "|    62|    257|   2.0|\n",
      "|   286|   1014|   5.0|\n",
      "|   200|    222|   5.0|\n",
      "|   210|     40|   3.0|\n",
      "|   224|     29|   3.0|\n",
      "|   303|    785|   3.0|\n",
      "|   122|    387|   5.0|\n",
      "|   194|    274|   2.0|\n",
      "|   291|   1042|   4.0|\n",
      "|   234|   1184|   2.0|\n",
      "+------+-------+------+\n",
      "only showing top 20 rows\n",
      "\n"
     ]
    }
   ],
   "source": [
    "# Reading the MovieLens dataset\n",
    "data = spark.read.text(\"C:/Users/tuhina2/Desktop/Big_Data/HW4/ml-100k/u.data\")\n",
    "data = data.rdd  \n",
    "data_split = data.map(lambda row: row.value.split(\"\\t\"))\n",
    "\n",
    "# loading the ratings from the MovieLens dataset\n",
    "ratings = data_split.map(lambda p: Row(userId=int(p[0]), movieId=int(p[1]),\n",
    "                                     rating=float(p[2]), timestamp=float(p[3])))\n",
    "final_ratings = spark.createDataFrame(ratings)\n",
    "\n",
    "#Dropping the Timestamp column as we don't require it for our analysis\n",
    "final_ratings = final_ratings.drop(\"timestamp\")\n",
    "final_ratings.show()"
   ]
  },
  {
   "cell_type": "markdown",
   "metadata": {
    "colab_type": "text",
    "id": "kXc4Gto_obeo"
   },
   "source": [
    "#### Splitting the training and testing dataset"
   ]
  },
  {
   "cell_type": "code",
   "execution_count": 3,
   "metadata": {
    "colab": {},
    "colab_type": "code",
    "id": "pe-XaxFmoiT4"
   },
   "outputs": [],
   "source": [
    "#Creating a random state while splitting, \n",
    "#so that the data doesn't change everytime we run it\n",
    "(train_data, test_data) = final_ratings.randomSplit([0.8, 0.2], 50)"
   ]
  },
  {
   "cell_type": "markdown",
   "metadata": {
    "colab_type": "text",
    "id": "0t-OGfqDoH6-"
   },
   "source": [
    "### 2. Build A Recommendation Model Using Alternating Least Squares"
   ]
  },
  {
   "cell_type": "code",
   "execution_count": 4,
   "metadata": {
    "colab": {},
    "colab_type": "code",
    "id": "WP5-_OUjKO3-"
   },
   "outputs": [],
   "source": [
    "# Building the ALS Model and fitting the training data\n",
    "als = ALS(userCol=\"userId\", itemCol=\"movieId\", ratingCol=\"rating\", nonnegative=True)\n",
    "als_model = als.fit(train_data)\n",
    "\n",
    "# Evaluate the model through Root Mean Square Error\n",
    "reg_evaluator = RegressionEvaluator(metricName=\"rmse\", labelCol=\"rating\", predictionCol=\"prediction\")\n",
    "rmse1 = reg_evaluator.evaluate(als_model.transform(test_data))"
   ]
  },
  {
   "cell_type": "markdown",
   "metadata": {
    "colab_type": "text",
    "id": "86f1DjJRLKPn"
   },
   "source": [
    "### 3. Reporting the Original Performance"
   ]
  },
  {
   "cell_type": "code",
   "execution_count": 5,
   "metadata": {
    "colab": {
     "base_uri": "https://localhost:8080/",
     "height": 34
    },
    "colab_type": "code",
    "id": "Hkde0BcqLMUD",
    "outputId": "dcc272b8-47eb-4109-c7b8-680d565de2c3"
   },
   "outputs": [
    {
     "name": "stdout",
     "output_type": "stream",
     "text": [
      "Root Mean Square Error (Original Performance): nan\n"
     ]
    }
   ],
   "source": [
    "print(\"Root Mean Square Error (Original Performance): \" + str(rmse1))"
   ]
  },
  {
   "cell_type": "markdown",
   "metadata": {
    "colab_type": "text",
    "id": "MyUZlrpwf_lf"
   },
   "source": [
    "This case shown above is referred to as \"cold start problem\" because Root Mean Square Error is found to be NaN here.\n",
    " \n",
    "In this example, Spark distributes NaN predictions across the ALS Model. Spark allows you to remove rows from the DataFrame containing forecasts with NaN values to overcome this problem. The Cold Start Strategy option is set to \"drop\" to accomplish this, which we will be doing next."
   ]
  },
  {
   "cell_type": "markdown",
   "metadata": {
    "colab_type": "text",
    "id": "5kQtwp2gMnlD"
   },
   "source": [
    "### 4. Performance Improvement By Solving The Cold Start Problem and Cross Validation"
   ]
  },
  {
   "cell_type": "code",
   "execution_count": 6,
   "metadata": {},
   "outputs": [
    {
     "name": "stdout",
     "output_type": "stream",
     "text": [
      "After solving the cold start problem, Root Mean Square Error = 0.9206439343602205\n"
     ]
    }
   ],
   "source": [
    "#Solving the cold start problem by setting the coldStartStrategy option set to \"drop\" \n",
    "als_final = ALS(userCol=\"userId\", itemCol=\"movieId\", ratingCol=\"rating\", nonnegative=True, coldStartStrategy= \"drop\")\n",
    "als_final_model = als_final.fit(train_data)\n",
    "\n",
    "# Evaluate the model through Root Mean Square Error\n",
    "rmse2 = reg_evaluator.evaluate(als_final_model.transform(test_data))\n",
    "print(\"After solving the cold start problem, Root Mean Square Error = \" + str(rmse2))"
   ]
  },
  {
   "cell_type": "markdown",
   "metadata": {
    "colab_type": "text",
    "id": "L5ijB8Z0NAYz"
   },
   "source": [
    "After solving the Cold Start Problem, we got the RMSE of around 0.920, and now we will try to improve the performance using Cross Validation for the next step."
   ]
  },
  {
   "cell_type": "markdown",
   "metadata": {
    "colab_type": "text",
    "id": "3i_9tmXyfzEJ"
   },
   "source": [
    "### 5.\tOptimize the model based on step 4 and report the improvement of performance. "
   ]
  },
  {
   "cell_type": "code",
   "execution_count": 7,
   "metadata": {
    "colab": {
     "base_uri": "https://localhost:8080/",
     "height": 34
    },
    "colab_type": "code",
    "id": "neV-GJx5NqV-",
    "outputId": "cf3f501c-b917-48da-e319-79b91d7716a6"
   },
   "outputs": [
    {
     "name": "stdout",
     "output_type": "stream",
     "text": [
      "After performing cross validation, Root Mean Square Error value is:  0.9138797746405847\n"
     ]
    }
   ],
   "source": [
    "# Parameters for tuning\n",
    "paramGrid = ParamGridBuilder() \\\n",
    "    .addGrid(als_final.regParam, [0.1, 0.01, 0.001]) \\\n",
    "    .addGrid(als_final.rank, [5, 10, 15]) \\\n",
    "    .build()\n",
    "\n",
    "#Cross Validation with 10 folds\n",
    "crossvalidation_model = CrossValidator(estimator = als_final,\n",
    "                     estimatorParamMaps = paramGrid,\n",
    "                     evaluator = reg_evaluator,\n",
    "                     numFolds=10)\n",
    "\n",
    "#Cross Validation Using the Best Model\n",
    "cv = crossvalidation_model.fit(train_data).bestModel\n",
    "\n",
    "#Root Mean Square Error value after solving cold start problem\n",
    "print(\"After performing cross validation, Root Mean Square Error value is: \", reg_evaluator.evaluate(cv.transform(test_data)))"
   ]
  },
  {
   "cell_type": "markdown",
   "metadata": {
    "colab_type": "text",
    "id": "ueR42feKRRaT"
   },
   "source": [
    "Here, we can observe that, even after cross validation, we can't see much improvement. Earlier, it was 0.920 and now it has come out to be 0.9138, so it has not improved that much."
   ]
  },
  {
   "cell_type": "code",
   "execution_count": 8,
   "metadata": {
    "colab": {
     "base_uri": "https://localhost:8080/",
     "height": 459
    },
    "colab_type": "code",
    "id": "SN1vLtJ3htE1",
    "outputId": "51cb3555-e0de-4ca4-949a-50d383ee64b9"
   },
   "outputs": [
    {
     "data": {
      "text/html": [
       "<div>\n",
       "<style scoped>\n",
       "    .dataframe tbody tr th:only-of-type {\n",
       "        vertical-align: middle;\n",
       "    }\n",
       "\n",
       "    .dataframe tbody tr th {\n",
       "        vertical-align: top;\n",
       "    }\n",
       "\n",
       "    .dataframe thead th {\n",
       "        text-align: right;\n",
       "    }\n",
       "</style>\n",
       "<table border=\"1\" class=\"dataframe\">\n",
       "  <thead>\n",
       "    <tr style=\"text-align: right;\">\n",
       "      <th></th>\n",
       "      <th>userId</th>\n",
       "      <th>recommendations</th>\n",
       "    </tr>\n",
       "  </thead>\n",
       "  <tbody>\n",
       "    <tr>\n",
       "      <th>0</th>\n",
       "      <td>1</td>\n",
       "      <td>[(1449, 5.267789363861084), (1463, 5.177079200...</td>\n",
       "    </tr>\n",
       "    <tr>\n",
       "      <th>1</th>\n",
       "      <td>3</td>\n",
       "      <td>[(320, 4.690036773681641), (902, 4.65658712387...</td>\n",
       "    </tr>\n",
       "    <tr>\n",
       "      <th>2</th>\n",
       "      <td>6</td>\n",
       "      <td>[(1463, 4.903487682342529), (1449, 4.632701396...</td>\n",
       "    </tr>\n",
       "    <tr>\n",
       "      <th>3</th>\n",
       "      <td>12</td>\n",
       "      <td>[(313, 5.161916255950928), (318, 5.12897014617...</td>\n",
       "    </tr>\n",
       "    <tr>\n",
       "      <th>4</th>\n",
       "      <td>13</td>\n",
       "      <td>[(1463, 5.811648845672607), (1104, 5.050313949...</td>\n",
       "    </tr>\n",
       "    <tr>\n",
       "      <th>...</th>\n",
       "      <td>...</td>\n",
       "      <td>...</td>\n",
       "    </tr>\n",
       "    <tr>\n",
       "      <th>938</th>\n",
       "      <td>934</td>\n",
       "      <td>[(1463, 5.067784309387207), (1449, 4.711485862...</td>\n",
       "    </tr>\n",
       "    <tr>\n",
       "      <th>939</th>\n",
       "      <td>940</td>\n",
       "      <td>[(251, 4.165430068969727), (313, 4.16200637817...</td>\n",
       "    </tr>\n",
       "    <tr>\n",
       "      <th>940</th>\n",
       "      <td>941</td>\n",
       "      <td>[(1449, 5.261136054992676), (251, 4.9636077880...</td>\n",
       "    </tr>\n",
       "    <tr>\n",
       "      <th>941</th>\n",
       "      <td>942</td>\n",
       "      <td>[(1463, 5.247258186340332), (1169, 5.001148223...</td>\n",
       "    </tr>\n",
       "    <tr>\n",
       "      <th>942</th>\n",
       "      <td>943</td>\n",
       "      <td>[(613, 4.919799327850342), (1467, 4.5728173255...</td>\n",
       "    </tr>\n",
       "  </tbody>\n",
       "</table>\n",
       "<p>943 rows × 2 columns</p>\n",
       "</div>"
      ],
      "text/plain": [
       "     userId                                    recommendations\n",
       "0         1  [(1449, 5.267789363861084), (1463, 5.177079200...\n",
       "1         3  [(320, 4.690036773681641), (902, 4.65658712387...\n",
       "2         6  [(1463, 4.903487682342529), (1449, 4.632701396...\n",
       "3        12  [(313, 5.161916255950928), (318, 5.12897014617...\n",
       "4        13  [(1463, 5.811648845672607), (1104, 5.050313949...\n",
       "..      ...                                                ...\n",
       "938     934  [(1463, 5.067784309387207), (1449, 4.711485862...\n",
       "939     940  [(251, 4.165430068969727), (313, 4.16200637817...\n",
       "940     941  [(1449, 5.261136054992676), (251, 4.9636077880...\n",
       "941     942  [(1463, 5.247258186340332), (1169, 5.001148223...\n",
       "942     943  [(613, 4.919799327850342), (1467, 4.5728173255...\n",
       "\n",
       "[943 rows x 2 columns]"
      ]
     },
     "execution_count": 8,
     "metadata": {},
     "output_type": "execute_result"
    }
   ],
   "source": [
    "# Finding top recommenders and putting it in pandas dataframe\n",
    "top_recomm = cv.recommendForAllUsers(10)\n",
    "top_recommendations = top_recomm.toPandas()\n",
    "top_recommendations"
   ]
  },
  {
   "cell_type": "markdown",
   "metadata": {},
   "source": [
    "### 6.\tOutput top 10 movies for all the users "
   ]
  },
  {
   "cell_type": "code",
   "execution_count": 9,
   "metadata": {
    "colab": {
     "base_uri": "https://localhost:8080/",
     "height": 204
    },
    "colab_type": "code",
    "id": "iy5h4vCBRisL",
    "outputId": "e166fe35-501b-4227-e674-c9d7bf2ceeb1"
   },
   "outputs": [
    {
     "data": {
      "text/html": [
       "<div>\n",
       "<style scoped>\n",
       "    .dataframe tbody tr th:only-of-type {\n",
       "        vertical-align: middle;\n",
       "    }\n",
       "\n",
       "    .dataframe tbody tr th {\n",
       "        vertical-align: top;\n",
       "    }\n",
       "\n",
       "    .dataframe thead th {\n",
       "        text-align: right;\n",
       "    }\n",
       "</style>\n",
       "<table border=\"1\" class=\"dataframe\">\n",
       "  <thead>\n",
       "    <tr style=\"text-align: right;\">\n",
       "      <th></th>\n",
       "      <th>user</th>\n",
       "      <th>recommendations</th>\n",
       "    </tr>\n",
       "  </thead>\n",
       "  <tbody>\n",
       "    <tr>\n",
       "      <th>0</th>\n",
       "      <td>1</td>\n",
       "      <td>1449, 1463, 169, 1367, 408, 114, 127, 12, 100, 50</td>\n",
       "    </tr>\n",
       "    <tr>\n",
       "      <th>1</th>\n",
       "      <td>3</td>\n",
       "      <td>320, 902, 1268, 1347, 1607, 1524, 114, 56, 180...</td>\n",
       "    </tr>\n",
       "    <tr>\n",
       "      <th>2</th>\n",
       "      <td>6</td>\n",
       "      <td>1463, 1449, 1367, 483, 718, 851, 1512, 1104, 5...</td>\n",
       "    </tr>\n",
       "    <tr>\n",
       "      <th>3</th>\n",
       "      <td>12</td>\n",
       "      <td>313, 318, 64, 251, 1450, 272, 22, 1449, 963, 1642</td>\n",
       "    </tr>\n",
       "    <tr>\n",
       "      <th>4</th>\n",
       "      <td>13</td>\n",
       "      <td>1463, 1104, 814, 851, 867, 57, 199, 1397, 483,...</td>\n",
       "    </tr>\n",
       "    <tr>\n",
       "      <th>...</th>\n",
       "      <td>...</td>\n",
       "      <td>...</td>\n",
       "    </tr>\n",
       "    <tr>\n",
       "      <th>938</th>\n",
       "      <td>934</td>\n",
       "      <td>1463, 1449, 1367, 408, 169, 318, 1122, 50, 114...</td>\n",
       "    </tr>\n",
       "    <tr>\n",
       "      <th>939</th>\n",
       "      <td>940</td>\n",
       "      <td>251, 313, 272, 1131, 1449, 1450, 1427, 963, 16...</td>\n",
       "    </tr>\n",
       "    <tr>\n",
       "      <th>940</th>\n",
       "      <td>941</td>\n",
       "      <td>1449, 251, 408, 1467, 114, 1463, 64, 12, 483, ...</td>\n",
       "    </tr>\n",
       "    <tr>\n",
       "      <th>941</th>\n",
       "      <td>942</td>\n",
       "      <td>1463, 1169, 318, 496, 1398, 64, 1449, 136, 163...</td>\n",
       "    </tr>\n",
       "    <tr>\n",
       "      <th>942</th>\n",
       "      <td>943</td>\n",
       "      <td>613, 1467, 56, 1664, 42, 50, 64, 127, 320, 1019</td>\n",
       "    </tr>\n",
       "  </tbody>\n",
       "</table>\n",
       "<p>943 rows × 2 columns</p>\n",
       "</div>"
      ],
      "text/plain": [
       "     user                                    recommendations\n",
       "0       1  1449, 1463, 169, 1367, 408, 114, 127, 12, 100, 50\n",
       "1       3  320, 902, 1268, 1347, 1607, 1524, 114, 56, 180...\n",
       "2       6  1463, 1449, 1367, 483, 718, 851, 1512, 1104, 5...\n",
       "3      12  313, 318, 64, 251, 1450, 272, 22, 1449, 963, 1642\n",
       "4      13  1463, 1104, 814, 851, 867, 57, 199, 1397, 483,...\n",
       "..    ...                                                ...\n",
       "938   934  1463, 1449, 1367, 408, 169, 318, 1122, 50, 114...\n",
       "939   940  251, 313, 272, 1131, 1449, 1450, 1427, 963, 16...\n",
       "940   941  1449, 251, 408, 1467, 114, 1463, 64, 12, 483, ...\n",
       "941   942  1463, 1169, 318, 496, 1398, 64, 1449, 136, 163...\n",
       "942   943    613, 1467, 56, 1664, 42, 50, 64, 127, 320, 1019\n",
       "\n",
       "[943 rows x 2 columns]"
      ]
     },
     "execution_count": 9,
     "metadata": {},
     "output_type": "execute_result"
    }
   ],
   "source": [
    "#Putting all users and their recommendations by picking their movieIds\n",
    "users = []\n",
    "recomend = []\n",
    "\n",
    "for i in range(len(top_recommendations)):\n",
    "    users.append(top_recommendations.iloc[i,0])\n",
    "    u_recom = \"\" \n",
    "    for item in top_recommendations.iloc[i,1]:\n",
    "        u_recom = u_recom + \", \" + str(item.asDict()[\"movieId\"])\n",
    "    recomend.append(u_recom[2:])\n",
    "\n",
    "recom_df = pd.DataFrame(data = zip(users, recomend), columns=[\"user\", \"recommendations\"])\n",
    "recom_df"
   ]
  },
  {
   "cell_type": "code",
   "execution_count": 10,
   "metadata": {
    "colab": {},
    "colab_type": "code",
    "id": "sUhmoHoYR7r3"
   },
   "outputs": [],
   "source": [
    "#Exporting users and their recommendations to a text file\n",
    "with open(\"Top_Recommendations.txt\", \"w\") as f:\n",
    "    f.write(\"UserId\\t\\t Recommendations \\n\")\n",
    "    for i in range(len(recom_df)):\n",
    "        f.write(str(recom_df.iloc[i,0]) + \"\\t\" + recom_df.iloc[i,1] + \"\\n\")"
   ]
  }
 ],
 "metadata": {
  "colab": {
   "collapsed_sections": [],
   "name": "HW4- Recommender System.ipynb",
   "provenance": []
  },
  "kernelspec": {
   "display_name": "Python 3 (ipykernel)",
   "language": "python",
   "name": "python3"
  },
  "language_info": {
   "codemirror_mode": {
    "name": "ipython",
    "version": 3
   },
   "file_extension": ".py",
   "mimetype": "text/x-python",
   "name": "python",
   "nbconvert_exporter": "python",
   "pygments_lexer": "ipython3",
   "version": "3.9.7"
  }
 },
 "nbformat": 4,
 "nbformat_minor": 1
}
